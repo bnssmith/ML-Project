{
 "cells": [
  {
   "cell_type": "markdown",
   "metadata": {
    "collapsed": true
   },
   "source": [
    "To clean the data, we follow the kernels posted by Ashwini Swain and Abigail Larion. Their kernels can be found at:\n",
    "\n",
    "Ashwini Swain: https://www.kaggle.com/ash316/terrorism-around-the-world\n",
    "\n",
    "Abigail Larion: https://www.kaggle.com/abigaillarion/terrorist-attacks-in-united-states"
   ]
  },
  {
   "cell_type": "markdown",
   "metadata": {},
   "source": [
    "Potential issues: check for and deal with missing data, outliers (what to do with extreme events like 9/11), duplicates."
   ]
  },
  {
   "cell_type": "markdown",
   "metadata": {},
   "source": [
    "First, import the necessary modules and the data."
   ]
  },
  {
   "cell_type": "code",
   "execution_count": 8,
   "metadata": {},
   "outputs": [
    {
     "data": {
      "text/html": [
       "<script type=\"text/javascript\">window.PlotlyConfig = {MathJaxConfig: 'local'};</script><script type=\"text/javascript\">if (window.MathJax) {MathJax.Hub.Config({SVG: {font: \"STIX-Web\"}});}</script><script>requirejs.config({paths: { 'plotly': ['https://cdn.plot.ly/plotly-latest.min']},});if(!window._Plotly) {require(['plotly'],function(plotly) {window._Plotly=plotly;});}</script>"
      ],
      "text/vnd.plotly.v1+html": [
       "<script type=\"text/javascript\">window.PlotlyConfig = {MathJaxConfig: 'local'};</script><script type=\"text/javascript\">if (window.MathJax) {MathJax.Hub.Config({SVG: {font: \"STIX-Web\"}});}</script><script>requirejs.config({paths: { 'plotly': ['https://cdn.plot.ly/plotly-latest.min']},});if(!window._Plotly) {require(['plotly'],function(plotly) {window._Plotly=plotly;});}</script>"
      ]
     },
     "metadata": {},
     "output_type": "display_data"
    }
   ],
   "source": [
    "import os\n",
    "import pandas as pd\n",
    "import matplotlib.pyplot as plt\n",
    "import matplotlib.patches as mpatches\n",
    "import seaborn as sns\n",
    "import numpy as np\n",
    "plt.style.use('fivethirtyeight')\n",
    "import plotly.offline as py\n",
    "py.init_notebook_mode(connected=True)\n",
    "import plotly.graph_objs as go\n",
    "import plotly.tools as tls\n",
    "#from mpl_toolkits.basemap import Basemap\n",
    "import folium\n",
    "import folium.plugins\n",
    "from matplotlib import animation,rc\n",
    "import io\n",
    "import base64\n",
    "from IPython.display import HTML, display\n",
    "import warnings\n",
    "warnings.filterwarnings('ignore')\n",
    "from scipy.misc import imread\n",
    "import codecs\n",
    "from subprocess import check_output"
   ]
  },
  {
   "cell_type": "code",
   "execution_count": 9,
   "metadata": {},
   "outputs": [],
   "source": [
    "os.chdir('Downloads')\n",
    "data = pd.read_csv('globalterrorism.csv', encoding = \"ISO-8859-1\")"
   ]
  },
  {
   "cell_type": "code",
   "execution_count": 12,
   "metadata": {},
   "outputs": [],
   "source": [
    "#Rename several of our variables\n",
    "data.rename(columns={'iyear':'Year','imonth':'Month','iday':'Day','provstate':'State','country_txt':'Country','region_txt':'Region','attacktype1_txt':'AttackType1','attacktype2_txt':'AttackType2','attacktype3_txt':'AttackType3','target1':'Target1','nkill':'Killed','nwound':'Wounded','summary':'Summary','gname':'Group','targtype1_txt':'Target1_type','targsubtype1_txt':'Target1_subtype','weaptype1_txt':'Weapon1_type','motive':'Motive'},inplace=True)\n",
    "#Keep only variables that we want to use\n",
    "data=data[['eventid','Year','Month','Day','Country','Region','city','location','latitude','longitude','specificity','vicinity','location','crit1','crit2','crit3','doubtterr','multiple','success','suicide','AttackType1','Killed','Wounded','Target1','extended','Summary','Group','Target1_type','Target1_subtype','corp1','natlty1_txt','Weapon1_type','Motive','targtype2_txt','corp2','targsubtype2_txt','corp2','target2','natlty2_txt','targtype3_txt','targsubtype3_txt','corp3','target3','natlty3_txt','gsubname','gname2','gsubname2','gname3','gsubname3','guncertain1','guncertain2','guncertain3','individual','nperps','nperpcap','claimed','claimmode_txt','claim2','claimmode2_txt','claim3','claimmode3_txt','compclaim','weapsubtype1_txt','weaptype2_txt','weapsubtype2_txt','weaptype3_txt','weapsubtype3_txt','weaptype4_txt','weapsubtype4_txt','weapdetail','nkillus','nkillter','nwoundus','nwoundte','property','propextent_txt','propvalue','propcomment','ishostkid','ransom','ransomamt','ransomamtus']]\n",
    "\"\"\"\n",
    "Notes:\n",
    "Resolution, alternative, alternative_txt have very little data\n",
    "Maybe we could combine location and city into one variable (\"Ithaca, Cornell University,\" for example) -- location has little info\n",
    "Maybe combine AttackType, other variables 1, 2, and 3-- 2 and 3 have little info for basically every such variable\n",
    "Drop ransompaid variables, since those are generally determined only after things are already settled down\n",
    "Motive, nhost, nhours, ndays, divert, kidhijcountry, hostkidoutcome variables have little info\n",
    "Some variables have more data during later years\n",
    "Interpret and deal with negative values in variables\n",
    "Look at discussions to know how to interpret variables\n",
    "\"\"\"\n",
    "#Create new variable for the sum of killed and wounded\n",
    "data['Hurt_Dead']=data['Killed']+data['Wounded']"
   ]
  },
  {
   "cell_type": "code",
   "execution_count": 13,
   "metadata": {},
   "outputs": [
    {
     "data": {
      "text/plain": [
       "eventid                  0\n",
       "Year                     0\n",
       "Month                    0\n",
       "Day                      0\n",
       "Country                  0\n",
       "Region                   0\n",
       "city                   434\n",
       "location            126196\n",
       "latitude              4556\n",
       "longitude             4557\n",
       "specificity              6\n",
       "vicinity                 0\n",
       "location            126196\n",
       "crit1                    0\n",
       "crit2                    0\n",
       "crit3                    0\n",
       "doubtterr                1\n",
       "multiple                 1\n",
       "success                  0\n",
       "suicide                  0\n",
       "AttackType1              0\n",
       "Killed               10313\n",
       "Wounded              16311\n",
       "Target1                636\n",
       "extended                 0\n",
       "Summary              66129\n",
       "Group                    0\n",
       "Target1_type             0\n",
       "Target1_subtype      10373\n",
       "corp1                42550\n",
       "                     ...  \n",
       "nperps               71115\n",
       "nperpcap             69489\n",
       "claimed              66120\n",
       "claimmode_txt       162608\n",
       "claim2              179801\n",
       "claimmode2_txt      181075\n",
       "claim3              181373\n",
       "claimmode3_txt      181558\n",
       "compclaim           176852\n",
       "weapsubtype1_txt     20768\n",
       "weaptype2_txt       168564\n",
       "weapsubtype2_txt    170149\n",
       "weaptype3_txt       179828\n",
       "weapsubtype3_txt    179998\n",
       "weaptype4_txt       181618\n",
       "weapsubtype4_txt    181621\n",
       "weapdetail           67670\n",
       "nkillus              64446\n",
       "nkillter             66958\n",
       "nwoundus             64702\n",
       "nwoundte             69143\n",
       "property                 0\n",
       "propextent_txt      117626\n",
       "propvalue           142702\n",
       "propcomment         123732\n",
       "ishostkid              178\n",
       "ransom              104310\n",
       "ransomamt           180341\n",
       "ransomamtus         181128\n",
       "Hurt_Dead            16874\n",
       "Length: 83, dtype: int64"
      ]
     },
     "execution_count": 13,
     "metadata": {},
     "output_type": "execute_result"
    }
   ],
   "source": [
    "data.isnull().sum()"
   ]
  },
  {
   "cell_type": "code",
   "execution_count": 15,
   "metadata": {},
   "outputs": [
    {
     "name": "stdout",
     "output_type": "stream",
     "text": [
      "<class 'pandas.core.frame.DataFrame'>\n",
      "RangeIndex: 181691 entries, 0 to 181690\n",
      "Data columns (total 83 columns):\n",
      "eventid             181691 non-null int64\n",
      "Year                181691 non-null int64\n",
      "Month               181691 non-null int64\n",
      "Day                 181691 non-null int64\n",
      "Country             181691 non-null object\n",
      "Region              181691 non-null object\n",
      "city                181257 non-null object\n",
      "location            55495 non-null object\n",
      "latitude            177135 non-null float64\n",
      "longitude           177134 non-null float64\n",
      "specificity         181685 non-null float64\n",
      "vicinity            181691 non-null int64\n",
      "location            55495 non-null object\n",
      "crit1               181691 non-null int64\n",
      "crit2               181691 non-null int64\n",
      "crit3               181691 non-null int64\n",
      "doubtterr           181690 non-null float64\n",
      "multiple            181690 non-null float64\n",
      "success             181691 non-null int64\n",
      "suicide             181691 non-null int64\n",
      "AttackType1         181691 non-null object\n",
      "Killed              171378 non-null float64\n",
      "Wounded             165380 non-null float64\n",
      "Target1             181055 non-null object\n",
      "extended            181691 non-null int64\n",
      "Summary             115562 non-null object\n",
      "Group               181691 non-null object\n",
      "Target1_type        181691 non-null object\n",
      "Target1_subtype     171318 non-null object\n",
      "corp1               139141 non-null object\n",
      "natlty1_txt         180132 non-null object\n",
      "Weapon1_type        181691 non-null object\n",
      "Motive              50561 non-null object\n",
      "targtype2_txt       11144 non-null object\n",
      "corp2               10117 non-null object\n",
      "targsubtype2_txt    10685 non-null object\n",
      "corp2               10117 non-null object\n",
      "target2             11020 non-null object\n",
      "natlty2_txt         10828 non-null object\n",
      "targtype3_txt       1176 non-null object\n",
      "targsubtype3_txt    1097 non-null object\n",
      "corp3               1026 non-null object\n",
      "target3             1175 non-null object\n",
      "natlty3_txt         1147 non-null object\n",
      "gsubname            5890 non-null object\n",
      "gname2              2013 non-null object\n",
      "gsubname2           160 non-null object\n",
      "gname3              324 non-null object\n",
      "gsubname3           20 non-null object\n",
      "guncertain1         181311 non-null float64\n",
      "guncertain2         1955 non-null float64\n",
      "guncertain3         320 non-null float64\n",
      "individual          181691 non-null int64\n",
      "nperps              110576 non-null float64\n",
      "nperpcap            112202 non-null float64\n",
      "claimed             115571 non-null float64\n",
      "claimmode_txt       19083 non-null object\n",
      "claim2              1890 non-null float64\n",
      "claimmode2_txt      616 non-null object\n",
      "claim3              318 non-null float64\n",
      "claimmode3_txt      133 non-null object\n",
      "compclaim           4839 non-null float64\n",
      "weapsubtype1_txt    160923 non-null object\n",
      "weaptype2_txt       13127 non-null object\n",
      "weapsubtype2_txt    11542 non-null object\n",
      "weaptype3_txt       1863 non-null object\n",
      "weapsubtype3_txt    1693 non-null object\n",
      "weaptype4_txt       73 non-null object\n",
      "weapsubtype4_txt    70 non-null object\n",
      "weapdetail          114021 non-null object\n",
      "nkillus             117245 non-null float64\n",
      "nkillter            114733 non-null float64\n",
      "nwoundus            116989 non-null float64\n",
      "nwoundte            112548 non-null float64\n",
      "property            181691 non-null int64\n",
      "propextent_txt      64065 non-null object\n",
      "propvalue           38989 non-null float64\n",
      "propcomment         57959 non-null object\n",
      "ishostkid           181513 non-null float64\n",
      "ransom              77381 non-null float64\n",
      "ransomamt           1350 non-null float64\n",
      "ransomamtus         563 non-null float64\n",
      "Hurt_Dead           164817 non-null float64\n",
      "dtypes: float64(26), int64(13), object(44)\n",
      "memory usage: 115.1+ MB\n"
     ]
    }
   ],
   "source": [
    "data.info()"
   ]
  },
  {
   "cell_type": "code",
   "execution_count": null,
   "metadata": {
    "collapsed": true
   },
   "outputs": [],
   "source": []
  }
 ],
 "metadata": {
  "kernelspec": {
   "display_name": "Python 3",
   "language": "python",
   "name": "python3"
  },
  "language_info": {
   "codemirror_mode": {
    "name": "ipython",
    "version": 3
   },
   "file_extension": ".py",
   "mimetype": "text/x-python",
   "name": "python",
   "nbconvert_exporter": "python",
   "pygments_lexer": "ipython3",
   "version": "3.6.1"
  }
 },
 "nbformat": 4,
 "nbformat_minor": 2
}
